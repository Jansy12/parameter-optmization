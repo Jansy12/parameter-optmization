{
 "cells": [
  {
   "cell_type": "code",
   "execution_count": 1,
   "id": "a1595bc1",
   "metadata": {},
   "outputs": [],
   "source": [
    "import seaborn as sns\n",
    "import pandas as pd\n",
    "import numpy as np\n",
    "import matplotlib.pyplot as plt\n",
    "%matplotlib inline\n",
    "import warnings\n",
    "warnings.filterwarnings('ignore')"
   ]
  },
  {
   "cell_type": "code",
   "execution_count": 2,
   "id": "7d7f2487",
   "metadata": {},
   "outputs": [],
   "source": [
    "df1 = pd.read_csv('Occupancy_Estimation.csv')"
   ]
  },
  {
   "cell_type": "code",
   "execution_count": 3,
   "id": "0eda4460",
   "metadata": {},
   "outputs": [
    {
     "data": {
      "text/html": [
       "<div>\n",
       "<style scoped>\n",
       "    .dataframe tbody tr th:only-of-type {\n",
       "        vertical-align: middle;\n",
       "    }\n",
       "\n",
       "    .dataframe tbody tr th {\n",
       "        vertical-align: top;\n",
       "    }\n",
       "\n",
       "    .dataframe thead th {\n",
       "        text-align: right;\n",
       "    }\n",
       "</style>\n",
       "<table border=\"1\" class=\"dataframe\">\n",
       "  <thead>\n",
       "    <tr style=\"text-align: right;\">\n",
       "      <th></th>\n",
       "      <th>Date</th>\n",
       "      <th>Time</th>\n",
       "      <th>S1_Temp</th>\n",
       "      <th>S2_Temp</th>\n",
       "      <th>S3_Temp</th>\n",
       "      <th>S4_Temp</th>\n",
       "      <th>S1_Light</th>\n",
       "      <th>S2_Light</th>\n",
       "      <th>S3_Light</th>\n",
       "      <th>S4_Light</th>\n",
       "      <th>S1_Sound</th>\n",
       "      <th>S2_Sound</th>\n",
       "      <th>S3_Sound</th>\n",
       "      <th>S4_Sound</th>\n",
       "      <th>S5_CO2</th>\n",
       "      <th>S5_CO2_Slope</th>\n",
       "      <th>S6_PIR</th>\n",
       "      <th>S7_PIR</th>\n",
       "      <th>Room_Occupancy_Count</th>\n",
       "    </tr>\n",
       "  </thead>\n",
       "  <tbody>\n",
       "    <tr>\n",
       "      <th>0</th>\n",
       "      <td>2017/12/22</td>\n",
       "      <td>10:49:41</td>\n",
       "      <td>24.94</td>\n",
       "      <td>24.75</td>\n",
       "      <td>24.56</td>\n",
       "      <td>25.38</td>\n",
       "      <td>121</td>\n",
       "      <td>34</td>\n",
       "      <td>53</td>\n",
       "      <td>40</td>\n",
       "      <td>0.08</td>\n",
       "      <td>0.19</td>\n",
       "      <td>0.06</td>\n",
       "      <td>0.06</td>\n",
       "      <td>390</td>\n",
       "      <td>0.769231</td>\n",
       "      <td>0</td>\n",
       "      <td>0</td>\n",
       "      <td>1</td>\n",
       "    </tr>\n",
       "    <tr>\n",
       "      <th>1</th>\n",
       "      <td>2017/12/22</td>\n",
       "      <td>10:50:12</td>\n",
       "      <td>24.94</td>\n",
       "      <td>24.75</td>\n",
       "      <td>24.56</td>\n",
       "      <td>25.44</td>\n",
       "      <td>121</td>\n",
       "      <td>33</td>\n",
       "      <td>53</td>\n",
       "      <td>40</td>\n",
       "      <td>0.93</td>\n",
       "      <td>0.05</td>\n",
       "      <td>0.06</td>\n",
       "      <td>0.06</td>\n",
       "      <td>390</td>\n",
       "      <td>0.646154</td>\n",
       "      <td>0</td>\n",
       "      <td>0</td>\n",
       "      <td>1</td>\n",
       "    </tr>\n",
       "    <tr>\n",
       "      <th>2</th>\n",
       "      <td>2017/12/22</td>\n",
       "      <td>10:50:42</td>\n",
       "      <td>25.00</td>\n",
       "      <td>24.75</td>\n",
       "      <td>24.50</td>\n",
       "      <td>25.44</td>\n",
       "      <td>121</td>\n",
       "      <td>34</td>\n",
       "      <td>53</td>\n",
       "      <td>40</td>\n",
       "      <td>0.43</td>\n",
       "      <td>0.11</td>\n",
       "      <td>0.08</td>\n",
       "      <td>0.06</td>\n",
       "      <td>390</td>\n",
       "      <td>0.519231</td>\n",
       "      <td>0</td>\n",
       "      <td>0</td>\n",
       "      <td>1</td>\n",
       "    </tr>\n",
       "    <tr>\n",
       "      <th>3</th>\n",
       "      <td>2017/12/22</td>\n",
       "      <td>10:51:13</td>\n",
       "      <td>25.00</td>\n",
       "      <td>24.75</td>\n",
       "      <td>24.56</td>\n",
       "      <td>25.44</td>\n",
       "      <td>121</td>\n",
       "      <td>34</td>\n",
       "      <td>53</td>\n",
       "      <td>40</td>\n",
       "      <td>0.41</td>\n",
       "      <td>0.10</td>\n",
       "      <td>0.10</td>\n",
       "      <td>0.09</td>\n",
       "      <td>390</td>\n",
       "      <td>0.388462</td>\n",
       "      <td>0</td>\n",
       "      <td>0</td>\n",
       "      <td>1</td>\n",
       "    </tr>\n",
       "    <tr>\n",
       "      <th>4</th>\n",
       "      <td>2017/12/22</td>\n",
       "      <td>10:51:44</td>\n",
       "      <td>25.00</td>\n",
       "      <td>24.75</td>\n",
       "      <td>24.56</td>\n",
       "      <td>25.44</td>\n",
       "      <td>121</td>\n",
       "      <td>34</td>\n",
       "      <td>54</td>\n",
       "      <td>40</td>\n",
       "      <td>0.18</td>\n",
       "      <td>0.06</td>\n",
       "      <td>0.06</td>\n",
       "      <td>0.06</td>\n",
       "      <td>390</td>\n",
       "      <td>0.253846</td>\n",
       "      <td>0</td>\n",
       "      <td>0</td>\n",
       "      <td>1</td>\n",
       "    </tr>\n",
       "  </tbody>\n",
       "</table>\n",
       "</div>"
      ],
      "text/plain": [
       "         Date      Time  S1_Temp  S2_Temp  S3_Temp  S4_Temp  S1_Light  \\\n",
       "0  2017/12/22  10:49:41    24.94    24.75    24.56    25.38       121   \n",
       "1  2017/12/22  10:50:12    24.94    24.75    24.56    25.44       121   \n",
       "2  2017/12/22  10:50:42    25.00    24.75    24.50    25.44       121   \n",
       "3  2017/12/22  10:51:13    25.00    24.75    24.56    25.44       121   \n",
       "4  2017/12/22  10:51:44    25.00    24.75    24.56    25.44       121   \n",
       "\n",
       "   S2_Light  S3_Light  S4_Light  S1_Sound  S2_Sound  S3_Sound  S4_Sound  \\\n",
       "0        34        53        40      0.08      0.19      0.06      0.06   \n",
       "1        33        53        40      0.93      0.05      0.06      0.06   \n",
       "2        34        53        40      0.43      0.11      0.08      0.06   \n",
       "3        34        53        40      0.41      0.10      0.10      0.09   \n",
       "4        34        54        40      0.18      0.06      0.06      0.06   \n",
       "\n",
       "   S5_CO2  S5_CO2_Slope  S6_PIR  S7_PIR  Room_Occupancy_Count  \n",
       "0     390      0.769231       0       0                     1  \n",
       "1     390      0.646154       0       0                     1  \n",
       "2     390      0.519231       0       0                     1  \n",
       "3     390      0.388462       0       0                     1  \n",
       "4     390      0.253846       0       0                     1  "
      ]
     },
     "execution_count": 3,
     "metadata": {},
     "output_type": "execute_result"
    }
   ],
   "source": [
    "df1.head()"
   ]
  },
  {
   "cell_type": "code",
   "execution_count": 4,
   "id": "b42193c9",
   "metadata": {},
   "outputs": [
    {
     "data": {
      "text/plain": [
       "(10129, 19)"
      ]
     },
     "execution_count": 4,
     "metadata": {},
     "output_type": "execute_result"
    }
   ],
   "source": [
    "df1.shape"
   ]
  },
  {
   "cell_type": "code",
   "execution_count": 5,
   "id": "9182f5de",
   "metadata": {},
   "outputs": [],
   "source": [
    "df2 = df1.drop(['Date','Time'],axis=1)"
   ]
  },
  {
   "cell_type": "code",
   "execution_count": 6,
   "id": "4334e974",
   "metadata": {},
   "outputs": [
    {
     "data": {
      "text/plain": [
       "<AxesSubplot: xlabel='Room_Occupancy_Count', ylabel='count'>"
      ]
     },
     "execution_count": 6,
     "metadata": {},
     "output_type": "execute_result"
    },
    {
     "data": {
      "image/png": "[encoded data removed]",
      "text/plain": [
       "<Figure size 640x480 with 1 Axes>"
      ]
     },
     "metadata": {},
     "output_type": "display_data"
    }
   ],
   "source": [
    "sns.countplot(x = 'Room_Occupancy_Count', data=df2)"
   ]
  },
  {
   "cell_type": "code",
   "execution_count": 7,
   "id": "70c2cffc",
   "metadata": {},
   "outputs": [],
   "source": [
    "X = df2.iloc[:,0:-1]\n",
    "y = df2['Room_Occupancy_Count']"
   ]
  },
  {
   "cell_type": "code",
   "execution_count": 8,
   "id": "b5002d38",
   "metadata": {},
   "outputs": [],
   "source": [
    "from sklearn.model_selection import train_test_split, GridSearchCV\n",
    "from sklearn.svm import SVC\n",
    "from sklearn.metrics import accuracy_score\n",
    "from sklearn.preprocessing import StandardScaler\n",
    "from sklearn.model_selection import learning_curve"
   ]
  },
  {
   "cell_type": "code",
   "execution_count": 9,
   "id": "31959266",
   "metadata": {},
   "outputs": [],
   "source": [
    "ss = StandardScaler()"
   ]
  },
  {
   "cell_type": "code",
   "execution_count": 10,
   "id": "ae8ffd09",
   "metadata": {},
   "outputs": [
    {
     "data": {
      "text/plain": [
       "array([[-1.46303347, -1.35777517, -1.16233429, ...,  0.66446859,\n",
       "        -0.31474885, -0.29402867],\n",
       "       [-1.46303347, -1.35777517, -1.16233429, ...,  0.558817  ,\n",
       "        -0.31474885, -0.29402867],\n",
       "       [-1.29225542, -1.35777517, -1.30276354, ...,  0.4498638 ,\n",
       "        -0.31474885, -0.29402867],\n",
       "       ...,\n",
       "       [-0.92223631, -0.82903247, -0.85807092, ...,  0.00414617,\n",
       "        -0.31474885, -0.29402867],\n",
       "       [-0.92223631, -0.82903247, -0.85807092, ...,  0.00414617,\n",
       "        -0.31474885, -0.29402867],\n",
       "       [-0.92223631, -0.82903247, -0.85807092, ...,  0.00414617,\n",
       "        -0.31474885, -0.29402867]])"
      ]
     },
     "execution_count": 10,
     "metadata": {},
     "output_type": "execute_result"
    }
   ],
   "source": [
    "ss.fit_transform(X)"
   ]
  },
  {
   "cell_type": "code",
   "execution_count": 11,
   "id": "afc997bb",
   "metadata": {},
   "outputs": [],
   "source": [
    "samples = []\n",
    "for i in range(10):\n",
    "    X_train, X_test, y_train, y_test = train_test_split(X, y, test_size=0.3, random_state=i)\n",
    "    samples.append((X_train, X_test, y_train, y_test))"
   ]
  },
  {
   "cell_type": "code",
   "execution_count": 12,
   "id": "f58ab234",
   "metadata": {},
   "outputs": [],
   "source": [
    "kernels = ['linear', 'poly', 'rbf', 'sigmoid']\n",
    "result = pd.DataFrame(columns=['Sample', 'Best Accuracy', 'Best Kernel', 'Best Nu', 'Best Epsilon'])"
   ]
  },
  {
   "cell_type": "code",
   "execution_count": 13,
   "id": "f0bde95d",
   "metadata": {},
   "outputs": [],
   "source": [
    "def fitnessFunction(kernel, C, gamma):\n",
    "  svm = SVC(kernel=kernel, C=C, gamma=gamma, max_iter=1000)\n",
    "  svm.fit(X_train, y_train)\n",
    "  y_pred = svm.predict(X_test)\n",
    "  return accuracy_score(y_pred, y_test)"
   ]
  },
  {
   "cell_type": "code",
   "execution_count": 14,
   "id": "2e4c8853",
   "metadata": {},
   "outputs": [
    {
     "name": "stdout",
     "output_type": "stream",
     "text": [
      "Best Accuracy =  0.96 Best Kernel =  poly Best Nu =  0.08 Best Epsilon =  0.62\n",
      "Best Accuracy =  0.95 Best Kernel =  linear Best Nu =  5.8 Best Epsilon =  6.05\n",
      "Best Accuracy =  0.96 Best Kernel =  poly Best Nu =  9.62 Best Epsilon =  6.95\n",
      "Best Accuracy =  0.88 Best Kernel =  poly Best Nu =  9.49 Best Epsilon =  8.6\n",
      "Best Accuracy =  0.88 Best Kernel =  linear Best Nu =  5.29 Best Epsilon =  7.04\n",
      "Best Accuracy =  0.97 Best Kernel =  poly Best Nu =  4.95 Best Epsilon =  1.84\n",
      "Best Accuracy =  0.88 Best Kernel =  linear Best Nu =  1.46 Best Epsilon =  7.03\n",
      "Best Accuracy =  0.92 Best Kernel =  poly Best Nu =  0.14 Best Epsilon =  1.27\n",
      "Best Accuracy =  0.94 Best Kernel =  poly Best Nu =  3.05 Best Epsilon =  0.37\n",
      "Best Accuracy =  0.92 Best Kernel =  rbf Best Nu =  9.54 Best Epsilon =  0.37\n"
     ]
    }
   ],
   "source": [
    "for i in range(len(samples)):\n",
    "  best_accuracy = 0\n",
    "  best_C = 0\n",
    "  best_gamma = 0\n",
    "  for kernel in kernels:\n",
    "    X_train, X_test, y_train, y_test = samples[i]\n",
    "    C = np.random.uniform(0, 10)\n",
    "    gamma = np.random.uniform(0, 10)\n",
    "    score = fitnessFunction(kernel, C, gamma)\n",
    "    if score>best_accuracy:\n",
    "      best_accuracy = round(score, 2)\n",
    "      best_C = round(C, 2)\n",
    "      best_gamma = round(gamma, 2)\n",
    "      best_kernel = kernel\n",
    "  print('Best Accuracy = ', best_accuracy, 'Best Kernel = ', best_kernel, 'Best Nu = ', best_C, 'Best Epsilon = ', best_gamma)\n",
    "  result.loc[i] = [i+1, best_accuracy, best_kernel, best_C, best_gamma]"
   ]
  },
  {
   "cell_type": "code",
   "execution_count": 15,
   "id": "e209085b",
   "metadata": {},
   "outputs": [
    {
     "data": {
      "text/html": [
       "<div>\n",
       "<style scoped>\n",
       "    .dataframe tbody tr th:only-of-type {\n",
       "        vertical-align: middle;\n",
       "    }\n",
       "\n",
       "    .dataframe tbody tr th {\n",
       "        vertical-align: top;\n",
       "    }\n",
       "\n",
       "    .dataframe thead th {\n",
       "        text-align: right;\n",
       "    }\n",
       "</style>\n",
       "<table border=\"1\" class=\"dataframe\">\n",
       "  <thead>\n",
       "    <tr style=\"text-align: right;\">\n",
       "      <th></th>\n",
       "      <th>Sample</th>\n",
       "      <th>Best Accuracy</th>\n",
       "      <th>Best Kernel</th>\n",
       "      <th>Best Nu</th>\n",
       "      <th>Best Epsilon</th>\n",
       "    </tr>\n",
       "  </thead>\n",
       "  <tbody>\n",
       "    <tr>\n",
       "      <th>0</th>\n",
       "      <td>1</td>\n",
       "      <td>0.96</td>\n",
       "      <td>poly</td>\n",
       "      <td>0.08</td>\n",
       "      <td>0.62</td>\n",
       "    </tr>\n",
       "    <tr>\n",
       "      <th>1</th>\n",
       "      <td>2</td>\n",
       "      <td>0.95</td>\n",
       "      <td>linear</td>\n",
       "      <td>5.80</td>\n",
       "      <td>6.05</td>\n",
       "    </tr>\n",
       "    <tr>\n",
       "      <th>2</th>\n",
       "      <td>3</td>\n",
       "      <td>0.96</td>\n",
       "      <td>poly</td>\n",
       "      <td>9.62</td>\n",
       "      <td>6.95</td>\n",
       "    </tr>\n",
       "    <tr>\n",
       "      <th>3</th>\n",
       "      <td>4</td>\n",
       "      <td>0.88</td>\n",
       "      <td>poly</td>\n",
       "      <td>9.49</td>\n",
       "      <td>8.60</td>\n",
       "    </tr>\n",
       "    <tr>\n",
       "      <th>4</th>\n",
       "      <td>5</td>\n",
       "      <td>0.88</td>\n",
       "      <td>linear</td>\n",
       "      <td>5.29</td>\n",
       "      <td>7.04</td>\n",
       "    </tr>\n",
       "    <tr>\n",
       "      <th>5</th>\n",
       "      <td>6</td>\n",
       "      <td>0.97</td>\n",
       "      <td>poly</td>\n",
       "      <td>4.95</td>\n",
       "      <td>1.84</td>\n",
       "    </tr>\n",
       "    <tr>\n",
       "      <th>6</th>\n",
       "      <td>7</td>\n",
       "      <td>0.88</td>\n",
       "      <td>linear</td>\n",
       "      <td>1.46</td>\n",
       "      <td>7.03</td>\n",
       "    </tr>\n",
       "    <tr>\n",
       "      <th>7</th>\n",
       "      <td>8</td>\n",
       "      <td>0.92</td>\n",
       "      <td>poly</td>\n",
       "      <td>0.14</td>\n",
       "      <td>1.27</td>\n",
       "    </tr>\n",
       "    <tr>\n",
       "      <th>8</th>\n",
       "      <td>9</td>\n",
       "      <td>0.94</td>\n",
       "      <td>poly</td>\n",
       "      <td>3.05</td>\n",
       "      <td>0.37</td>\n",
       "    </tr>\n",
       "    <tr>\n",
       "      <th>9</th>\n",
       "      <td>10</td>\n",
       "      <td>0.92</td>\n",
       "      <td>rbf</td>\n",
       "      <td>9.54</td>\n",
       "      <td>0.37</td>\n",
       "    </tr>\n",
       "  </tbody>\n",
       "</table>\n",
       "</div>"
      ],
      "text/plain": [
       "   Sample  Best Accuracy Best Kernel  Best Nu  Best Epsilon\n",
       "0       1           0.96        poly     0.08          0.62\n",
       "1       2           0.95      linear     5.80          6.05\n",
       "2       3           0.96        poly     9.62          6.95\n",
       "3       4           0.88        poly     9.49          8.60\n",
       "4       5           0.88      linear     5.29          7.04\n",
       "5       6           0.97        poly     4.95          1.84\n",
       "6       7           0.88      linear     1.46          7.03\n",
       "7       8           0.92        poly     0.14          1.27\n",
       "8       9           0.94        poly     3.05          0.37\n",
       "9      10           0.92         rbf     9.54          0.37"
      ]
     },
     "execution_count": 15,
     "metadata": {},
     "output_type": "execute_result"
    }
   ],
   "source": [
    "result"
   ]
  },
  {
   "cell_type": "code",
   "execution_count": 16,
   "id": "58eaa121",
   "metadata": {},
   "outputs": [],
   "source": [
    "X_train, X_test, y_train, y_test = samples[result['Best Accuracy'].idxmax()]"
   ]
  },
  {
   "cell_type": "code",
   "execution_count": 17,
   "id": "e3ec78c9",
   "metadata": {},
   "outputs": [],
   "source": [
    "train_sizes, train_scores, test_scores = learning_curve(SVC(kernel=result['Best Kernel'].iloc[result['Best Accuracy'].idxmax()],\n",
    "                                                        C=result['Best Nu'].iloc[result['Best Accuracy'].idxmax()],\n",
    "                                                        gamma=result['Best Epsilon'].iloc[result['Best Accuracy'].idxmax()],\n",
    "                                                        max_iter = 1000), X_train, y_train, cv=10, scoring='accuracy', n_jobs=-1,\n",
    "                                                        train_sizes = np.linspace(0.01, 1.0, 50))"
   ]
  },
  {
   "cell_type": "code",
   "execution_count": 19,
   "id": "746439ea",
   "metadata": {},
   "outputs": [],
   "source": [
    "train_mean = np.mean(train_scores, axis=1)\n",
    "test_mean = np.mean(test_scores, axis=1)"
   ]
  },
  {
   "cell_type": "code",
   "execution_count": 20,
   "id": "5a9d30cf",
   "metadata": {},
   "outputs": [
    {
     "data": {
      "image/png": "[encoded data removed]",
      "text/plain": [
       "<Figure size 1000x600 with 1 Axes>"
      ]
     },
     "metadata": {},
     "output_type": "display_data"
    }
   ],
   "source": [
    "plt.figure(figsize=(10, 6))\n",
    "plt.plot(train_sizes, train_mean, label='Training Score')\n",
    "plt.plot(train_sizes, test_mean, label='Cross-Validation Score')\n",
    "plt.xlabel('Iterations')\n",
    "plt.ylabel('Accuracy')\n",
    "plt.title('Convergence Graph')\n",
    "plt.legend(loc=\"best\")\n",
    "plt.show()"
   ]
  },
  {
   "cell_type": "code",
   "execution_count": null,
   "id": "721516af",
   "metadata": {},
   "outputs": [],
   "source": []
  }
 ],
 "metadata": {
  "kernelspec": {
   "display_name": "Python 3 (ipykernel)",
   "language": "python",
   "name": "python3"
  },
  "language_info": {
   "codemirror_mode": {
    "name": "ipython",
    "version": 3
   },
   "file_extension": ".py",
   "mimetype": "text/x-python",
   "name": "python",
   "nbconvert_exporter": "python",
   "pygments_lexer": "ipython3",
   "version": "3.11.4"
  }
 },
 "nbformat": 4,
 "nbformat_minor": 5
}
